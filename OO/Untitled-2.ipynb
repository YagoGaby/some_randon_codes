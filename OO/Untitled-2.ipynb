{
 "cells": [
  {
   "cell_type": "code",
   "execution_count": 4,
   "metadata": {},
   "outputs": [
    {
     "name": "stdout",
     "output_type": "stream",
     "text": [
      "*****************************************\n",
      "****** Bem-vindo ao jogo da Forca *******\n",
      "*****************************************\n",
      "Encontrei a letra b na posição 0\n",
      "Jogando...\n",
      "Encontrei a letra a na posição 1\n",
      "Encontrei a letra a na posição 3\n",
      "Encontrei a letra a na posição 5\n",
      "Jogando...\n",
      "Encontrei a letra n na posição 2\n",
      "Encontrei a letra n na posição 4\n",
      "Jogando...\n",
      "Encontrei a letra n na posição 2\n",
      "Encontrei a letra n na posição 4\n",
      "Jogando...\n",
      "Jogando...\n",
      "Jogando...\n",
      "Jogando...\n"
     ]
    }
   ],
   "source": [
    "def jogar():\n",
    "    print('*****************************************')\n",
    "    print('****** Bem-vindo ao jogo da Forca *******')\n",
    "    print('*****************************************')\n",
    "\n",
    "    palavra_secreta = \"banana\"\n",
    "    enforcou = False\n",
    "    acertou = False\n",
    "\n",
    "    while (not acertou and not enforcou):\n",
    "\n",
    "        chute = input(\"Qual letra? \")\n",
    "        chute = chute.strip()\n",
    "\n",
    "        index = 0\n",
    "        for letra in palavra_secreta:\n",
    "            if (chute.upper() == letra.upper()):\n",
    "                print(\"Encontrei a letra {} na posição {}\".format(letra, index))\n",
    "            index = index + 1\n",
    "\n",
    "        print(\"Jogando...\")\n",
    "\n",
    "    print(\"Fim do jogo\")\n",
    "\n",
    "if(__name__ == '__main__'):\n",
    "    jogar()"
   ]
  },
  {
   "cell_type": "code",
   "execution_count": 1,
   "metadata": {},
   "outputs": [],
   "source": [
    "def cria_conta(numero, titular, saldo, limite):\n",
    "    conta = {\"numero\": numero, \"titular\": titular, \"saldo\": saldo, \"limite\": limite}\n",
    "    return conta\n",
    "\n",
    "def deposita(conta, valor):\n",
    "    conta[\"saldo\"] += valor\n",
    "\n",
    "def saca(conta, valor):\n",
    "    conta[\"saldo\"] -= valor\n",
    "\n",
    "def extrato(conta):\n",
    "    print(\"Saldo {}\".format(conta[\"saldo\"]))\n",
    "\n"
   ]
  }
 ],
 "metadata": {
  "kernelspec": {
   "display_name": "Python 3.10.5 64-bit (windows store)",
   "language": "python",
   "name": "python3"
  },
  "language_info": {
   "codemirror_mode": {
    "name": "ipython",
    "version": 3
   },
   "file_extension": ".py",
   "mimetype": "text/x-python",
   "name": "python",
   "nbconvert_exporter": "python",
   "pygments_lexer": "ipython3",
   "version": "3.10.5"
  },
  "orig_nbformat": 4,
  "vscode": {
   "interpreter": {
    "hash": "d62e853b11f6c036e2b29e8767a4afdefdeef159b305c642ec8306d673c86c22"
   }
  }
 },
 "nbformat": 4,
 "nbformat_minor": 2
}
